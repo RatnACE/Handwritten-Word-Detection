{
 "cells": [
  {
   "cell_type": "code",
   "execution_count": 2,
   "id": "d058895b",
   "metadata": {},
   "outputs": [],
   "source": [
    "import torch\n",
    "import torch.nn as nn\n",
    "import torch.nn.functional as F\n",
    "import torch.optim as optim\n",
    "from sklearn.preprocessing import StandardScaler\n",
    "import torchvision\n",
    "from torchvision import transforms, datasets\n",
    "import numpy as np\n",
    "import pandas as pd\n",
    "import joblib"
   ]
  },
  {
   "cell_type": "code",
   "execution_count": 3,
   "id": "190a56c1",
   "metadata": {
    "scrolled": true
   },
   "outputs": [],
   "source": [
    "#!pip install torchvision"
   ]
  },
  {
   "cell_type": "code",
   "execution_count": 4,
   "id": "0797b4f7",
   "metadata": {},
   "outputs": [
    {
     "data": {
      "text/plain": [
       "['scaler.joblib']"
      ]
     },
     "execution_count": 4,
     "metadata": {},
     "output_type": "execute_result"
    }
   ],
   "source": [
    "features = pd.read_csv('C:/Users/ratne/Downloads/digit-recognizer/train.csv').drop('label',axis=1)\n",
    "features.head(5)\n",
    "\n",
    "scaler = StandardScaler()\n",
    "df_x = torch.tensor(scaler.fit_transform(features))\n",
    "joblib.dump(scaler,\"scaler.joblib\")"
   ]
  },
  {
   "cell_type": "code",
   "execution_count": 5,
   "id": "9df20c1a",
   "metadata": {},
   "outputs": [],
   "source": [
    "df_y = torch.tensor(pd.read_csv('C:/Users/ratne/Downloads/digit-recognizer/train.csv')['label'].values)\n",
    "train_tensor = torch.utils.data.TensorDataset(df_x,df_y)\n",
    "trainset = torch.utils.data.DataLoader(train_tensor,shuffle=True,batch_size=20)"
   ]
  },
  {
   "cell_type": "code",
   "execution_count": 6,
   "id": "7971c8fe",
   "metadata": {},
   "outputs": [],
   "source": [
    "class Net(nn.Module):\n",
    "    def __init__(self):\n",
    "        super().__init__()\n",
    "        self.fc1 = nn.Linear(28*28,64,dtype=torch.float64)\n",
    "        self.fc2 = nn.Linear(64,64,dtype=torch.float64)\n",
    "        self.fc3 = nn.Linear(64,64,dtype=torch.float64)\n",
    "        self.fc4 = nn.Linear(64,10,dtype=torch.float64)\n",
    "\n",
    "    def Forward_Prop(self,X):\n",
    "        X = F.relu(self.fc1(X))\n",
    "        X = F.relu(self.fc2(X))\n",
    "        X = F.relu(self.fc3(X))\n",
    "        X = F.log_softmax(self.fc4(X),dim=1)\n",
    "        return X"
   ]
  },
  {
   "cell_type": "code",
   "execution_count": 7,
   "id": "61726fd3",
   "metadata": {},
   "outputs": [
    {
     "name": "stdout",
     "output_type": "stream",
     "text": [
      "tensor(0.4456, dtype=torch.float64, grad_fn=<NllLossBackward0>)\n",
      "tensor(0.0035, dtype=torch.float64, grad_fn=<NllLossBackward0>)\n",
      "tensor(0.1450, dtype=torch.float64, grad_fn=<NllLossBackward0>)\n"
     ]
    }
   ],
   "source": [
    "net = Net()\n",
    "optimizer = optim.Adam(net.parameters(),lr=0.001)\n",
    "\n",
    "alpha = 3\n",
    "\n",
    "for epoch in range(alpha):\n",
    "    for data in trainset:\n",
    "        X,Y = data\n",
    "        # print(X.view((-1,28*28)))\n",
    "        # print(Y)\n",
    "        # break\n",
    "        net.zero_grad()\n",
    "        output = net.Forward_Prop(X.view((-1,28*28)))\n",
    "        loss = F.nll_loss(output,Y)\n",
    "        loss.backward()\n",
    "        optimizer.step()\n",
    "    print(loss)"
   ]
  },
  {
   "cell_type": "code",
   "execution_count": 8,
   "id": "7de4462f",
   "metadata": {},
   "outputs": [
    {
     "name": "stdout",
     "output_type": "stream",
     "text": [
      "[[0. 0. 0. ... 0. 0. 0.]\n",
      " [0. 0. 0. ... 0. 0. 0.]\n",
      " [0. 0. 0. ... 0. 0. 0.]\n",
      " ...\n",
      " [0. 0. 0. ... 0. 0. 0.]\n",
      " [0. 0. 0. ... 0. 0. 0.]\n",
      " [0. 0. 0. ... 0. 0. 0.]]\n"
     ]
    }
   ],
   "source": [
    "scaler = joblib.load('scaler.joblib')\n",
    "testset = scaler.transform(pd.read_csv('C:/Users/ratne/Downloads/digit-recognizer/test.csv'))\n",
    "print(testset)\n",
    "testset = torch.tensor(testset)"
   ]
  },
  {
   "cell_type": "code",
   "execution_count": 28,
   "id": "93e05028",
   "metadata": {},
   "outputs": [
    {
     "data": {
      "image/png": "[encoded data removed]",
      "text/plain": [
       "<Figure size 432x288 with 1 Axes>"
      ]
     },
     "metadata": {
      "needs_background": "light"
     },
     "output_type": "display_data"
    },
    {
     "name": "stdout",
     "output_type": "stream",
     "text": [
      "The given Image is number : 6\n"
     ]
    }
   ],
   "source": [
    "i = 3041\n",
    "import matplotlib.pyplot as plt\n",
    "plt.imshow(testset[i].view(28,28))\n",
    "plt.show()\n",
    "#print(testset[i])\n",
    "\n",
    "print(\"The given Image is number : {}\".format(torch.argmax(net.Forward_Prop(testset[i].view(-1,28*28))).item()))"
   ]
  },
  {
   "cell_type": "code",
   "execution_count": 30,
   "id": "f0038c0d",
   "metadata": {},
   "outputs": [],
   "source": [
    "#print(pd.read_csv('C:/Users/ratne/Downloads/digit-recognizer/test.csv'))"
   ]
  },
  {
   "cell_type": "code",
   "execution_count": 31,
   "id": "c9adc63a",
   "metadata": {},
   "outputs": [],
   "source": [
    "from PIL import Image\n"
   ]
  },
  {
   "cell_type": "code",
   "execution_count": 115,
   "id": "e05d481f",
   "metadata": {},
   "outputs": [],
   "source": [
    "im = Image.open('C:/Users/ratne/Downloads/Untitled68.jpg', 'r')\n",
    "newsize = (28,28)\n",
    "im.resize(newsize)\n",
    "im=im.convert('1')\n",
    "#im.show()\n",
    "#im=im.resize(newsize)\n"
   ]
  },
  {
   "cell_type": "code",
   "execution_count": 116,
   "id": "6152adaa",
   "metadata": {},
   "outputs": [
    {
     "name": "stdout",
     "output_type": "stream",
     "text": [
      "784\n"
     ]
    }
   ],
   "source": [
    "pix_val = list(im.getdata())\n",
    "print(len(pix_val))"
   ]
  },
  {
   "cell_type": "code",
   "execution_count": 117,
   "id": "34e97297",
   "metadata": {},
   "outputs": [],
   "source": [
    "import pandas\n",
    "real={}\n",
    "\n",
    "for iom in range(0,784):\n",
    "    \n",
    "    hey=\"pixel\"+str(iom)\n",
    "    lissst=[]\n",
    "    lissst.append(pix_val[iom])\n",
    "    real[hey]=lissst\n",
    "#print(real)    \n",
    "df=pandas.DataFrame(real)\n",
    "#print(df)"
   ]
  },
  {
   "cell_type": "code",
   "execution_count": 118,
   "id": "c6b19489",
   "metadata": {},
   "outputs": [
    {
     "data": {
      "image/png": "[encoded data removed]",
      "text/plain": [
       "<Figure size 432x288 with 1 Axes>"
      ]
     },
     "metadata": {
      "needs_background": "light"
     },
     "output_type": "display_data"
    }
   ],
   "source": [
    "import torch\n",
    "#testset = scaler.transform(df)\n",
    "#print(df)\n",
    "dff = scaler.transform(df)\n",
    "dff = torch.tensor(dff)\n",
    "plt.imshow(dff.view(28,28))\n",
    "plt.show()\n"
   ]
  },
  {
   "cell_type": "code",
   "execution_count": 119,
   "id": "19125ddb",
   "metadata": {
    "scrolled": true
   },
   "outputs": [
    {
     "data": {
      "image/png": "[encoded data removed]",
      "text/plain": [
       "<Figure size 432x288 with 1 Axes>"
      ]
     },
     "metadata": {
      "needs_background": "light"
     },
     "output_type": "display_data"
    },
    {
     "name": "stdout",
     "output_type": "stream",
     "text": [
      "The given Image is number : 7\n"
     ]
    }
   ],
   "source": [
    "import matplotlib.pyplot as plt\n",
    "plt.imshow(dff.view(28,28))\n",
    "plt.show()\n",
    "#print(dff)\n",
    "print(\"The given Image is number : {}\".format(torch.argmax(net.Forward_Prop(dff[0].view(-1,28*28))).item()))"
   ]
  },
  {
   "cell_type": "code",
   "execution_count": 27,
   "id": "a3ccaffd",
   "metadata": {},
   "outputs": [
    {
     "name": "stdout",
     "output_type": "stream",
     "text": [
      "The given Image is number : 1\n"
     ]
    }
   ],
   "source": [
    "print(\"The given Image is number : {}\".format(torch.argmax(net.Forward_Prop(testset[i].view(-1,28*28))).item()))"
   ]
  }
 ],
 "metadata": {
  "kernelspec": {
   "display_name": "Python 3",
   "language": "python",
   "name": "python3"
  },
  "language_info": {
   "codemirror_mode": {
    "name": "ipython",
    "version": 3
   },
   "file_extension": ".py",
   "mimetype": "text/x-python",
   "name": "python",
   "nbconvert_exporter": "python",
   "pygments_lexer": "ipython3",
   "version": "3.8.8"
  }
 },
 "nbformat": 4,
 "nbformat_minor": 5
}
